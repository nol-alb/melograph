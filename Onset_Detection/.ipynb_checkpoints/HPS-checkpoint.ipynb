{
 "cells": [
  {
   "cell_type": "code",
   "execution_count": 1,
   "metadata": {},
   "outputs": [],
   "source": [
    "import numpy\n",
    "from scipy import signal\n",
    "from scipy.fftpack import fft\n",
    "import matplotlib.pyplot as plt\n",
    "import os, os.path\n",
    "from scipy.io.wavfile import read as wavread\n",
    "import math\n",
    "\n",
    "import numpy as np"
   ]
  },
  {
   "cell_type": "code",
   "execution_count": 3,
   "metadata": {},
   "outputs": [],
   "source": [
    "def fourier(x):\n",
    "    # Get Symmetric fft\n",
    "    w = signal.windows.hann(np.size(x))\n",
    "    windowed = x * w\n",
    "    w1 = int((x.size + 1) // 2)\n",
    "    w2 = int(x.size / 2)\n",
    "    fftans = np.zeros(x.size)\n",
    "\n",
    "    # Centre to make even function\n",
    "    fftans[0:w1] = windowed[w2:]\n",
    "    fftans[w2:] = windowed[0:w1]\n",
    "    X = fft(fftans)\n",
    "    magX = abs(X[0:int(x.size // 2 + 1)])\n",
    "    return magX\n"
   ]
  },
  {
   "cell_type": "code",
   "execution_count": 4,
   "metadata": {},
   "outputs": [],
   "source": [
    "def block_audio(x, blockSize, hopSize, fs):\n",
    "    # allocate memory\n",
    "    numBlocks = math.ceil(x.size / hopSize)\n",
    "    xb = np.zeros([numBlocks, blockSize])\n",
    "\n",
    "    # compute time stamps\n",
    "    t = (np.arange(0, numBlocks) * hopSize) / fs\n",
    "    x = np.concatenate((x, np.zeros(blockSize)), axis=0)\n",
    "    for n in range(0, numBlocks):\n",
    "        i_start = n * hopSize\n",
    "        i_stop = np.min([x.size - 1, i_start + blockSize - 1])\n",
    "        xb[n][np.arange(0, blockSize)] = x[np.arange(i_start, i_stop + 1)]\n",
    "    return xb, t"
   ]
  },
  {
   "cell_type": "code",
   "execution_count": 5,
   "metadata": {},
   "outputs": [],
   "source": [
    "def ToolReadAudio(cAudioFilePath):\n",
    "    [samplerate, x] = wavread(cAudioFilePath)\n",
    "\n",
    "    if x.dtype == 'float32':\n",
    "        audio = x\n",
    "    else:\n",
    "        # change range to [-1,1)\n",
    "        if x.dtype == 'uint8':\n",
    "            nbits = 8\n",
    "        elif x.dtype == 'int16':\n",
    "            nbits = 16\n",
    "        elif x.dtype == 'int32':\n",
    "            nbits = 32\n",
    "\n",
    "        audio = x / float(2 ** (nbits - 1))\n",
    "\n",
    "    # special case of unsigned format\n",
    "    if x.dtype == 'uint8':\n",
    "        audio = audio - 1.\n",
    "    return samplerate, audio"
   ]
  },
  {
   "cell_type": "code",
   "execution_count": 101,
   "metadata": {},
   "outputs": [],
   "source": [
    "def PitchSpectralHps(X, f_s):\n",
    "\n",
    "    # initialize\n",
    "    iOrder = 4\n",
    "    f_min = 300\n",
    "    f = np.zeros(X.shape[1])\n",
    "\n",
    "    iLen = int((X.shape[0] - 1) / iOrder)\n",
    "    afHps = X[np.arange(0, iLen), :]\n",
    "    k_min = int(round(f_min / f_s * 2 * (X.shape[0] - 1)))\n",
    "\n",
    "    # compute the HPS\n",
    "    for j in range(1, iOrder):\n",
    "        X_d = X[::(j + 1), :]\n",
    "        afHps *= X_d[np.arange(0, iLen), :]\n",
    "        plt.plot(afHps)\n",
    "        plt.show()\n",
    "\n",
    "    f = np.argmax(afHps[np.arange(k_min, afHps.shape[0])], axis=0)\n",
    "\n",
    "    # find max index and convert to Hz\n",
    "    f = (f + k_min) / (X.shape[0] - 1) * f_s / 2\n",
    "\n",
    "    return (f)"
   ]
  },
  {
   "cell_type": "code",
   "execution_count": 36,
   "metadata": {},
   "outputs": [],
   "source": [
    "path = '/Volumes/NoelHDD/Music_Tech/Datasets/V1/ClaraBerryAndWooldog_WaltzForMyVictims/ClaraBerryAndWooldog_WaltzForMyVictims_RAW/ClaraBerryAndWooldog_WaltzForMyVictims_RAW_04_01.wav'"
   ]
  },
  {
   "cell_type": "code",
   "execution_count": 39,
   "metadata": {},
   "outputs": [
    {
     "name": "stderr",
     "output_type": "stream",
     "text": [
      "/Library/Frameworks/Python.framework/Versions/3.6/lib/python3.6/site-packages/ipykernel_launcher.py:1: WavFileWarning: Chunk (non-data) not understood, skipping it.\n",
      "  \"\"\"Entry point for launching an IPython kernel.\n",
      "/Library/Frameworks/Python.framework/Versions/3.6/lib/python3.6/site-packages/ipykernel_launcher.py:1: WavFileWarning: Incomplete chunk ID: b'\\x00', ignoring it.\n",
      "  \"\"\"Entry point for launching an IPython kernel.\n"
     ]
    }
   ],
   "source": [
    "fs, x = wavread(path)\n",
    "x = x[5000000:]\n",
    "x = x/max(x)"
   ]
  },
  {
   "cell_type": "code",
   "execution_count": 40,
   "metadata": {},
   "outputs": [
    {
     "data": {
      "text/plain": [
       "[<matplotlib.lines.Line2D at 0x7fb949fa9748>]"
      ]
     },
     "execution_count": 40,
     "metadata": {},
     "output_type": "execute_result"
    },
    {
     "data": {
      "image/png": "[encoded data removed]",
      "text/plain": [
       "<Figure size 432x288 with 1 Axes>"
      ]
     },
     "metadata": {
      "needs_background": "light"
     },
     "output_type": "display_data"
    }
   ],
   "source": [
    "plt.plot(x)"
   ]
  },
  {
   "cell_type": "code",
   "execution_count": 41,
   "metadata": {},
   "outputs": [],
   "source": [
    "xb,t = block_audio(x,1024,256,fs)"
   ]
  },
  {
   "cell_type": "code",
   "execution_count": 42,
   "metadata": {},
   "outputs": [],
   "source": [
    "Mgx = np.zeros((xb.shape[0],513))\n",
    "for block in range(xb.shape[0]):\n",
    "    Mgx[block]=fourier(xb[block])"
   ]
  },
  {
   "cell_type": "code",
   "execution_count": 43,
   "metadata": {},
   "outputs": [],
   "source": [
    "MgxT = Mgx.T"
   ]
  },
  {
   "cell_type": "code",
   "execution_count": 100,
   "metadata": {},
   "outputs": [
    {
     "data": {
      "image/png": "[encoded data removed]",
      "text/plain": [
       "<Figure size 432x288 with 1 Axes>"
      ]
     },
     "metadata": {
      "needs_background": "light"
     },
     "output_type": "display_data"
    }
   ],
   "source": [
    "f = PitchSpectralHps(MgxT, fs)"
   ]
  },
  {
   "cell_type": "code",
   "execution_count": 55,
   "metadata": {},
   "outputs": [],
   "source": [
    "f1 = np.array([1570.83203125, 1830.01171875, 2001.62890625, 2087.4375,2612.80078125, 2873.73046875, 3045.34765625, 3134.66015625])"
   ]
  },
  {
   "cell_type": "code",
   "execution_count": 63,
   "metadata": {},
   "outputs": [
    {
     "data": {
      "text/plain": [
       "array([1570., 1830., 2001., 2087., 2612., 2873., 3045., 3134.])"
      ]
     },
     "execution_count": 63,
     "metadata": {},
     "output_type": "execute_result"
    }
   ],
   "source": [
    "for k in range(f1.size):\n",
    "    f1[k] = int(f1[k])\n",
    "f1"
   ]
  },
  {
   "cell_type": "code",
   "execution_count": 80,
   "metadata": {},
   "outputs": [],
   "source": [
    "K =[]\n",
    "for i in f1:\n",
    "    K.append(f[int(i)])"
   ]
  },
  {
   "cell_type": "code",
   "execution_count": 98,
   "metadata": {},
   "outputs": [
    {
     "data": {
      "image/png": "[encoded data removed]",
      "text/plain": [
       "<Figure size 432x288 with 1 Axes>"
      ]
     },
     "metadata": {
      "needs_background": "light"
     },
     "output_type": "display_data"
    }
   ],
   "source": [
    "plt.scatter((f1/44100),K,c='r')\n",
    "plt.plot((f1/44100),K,'--')\n",
    "plt.title('F0 Estimation, HPS')\n",
    "plt.xlabel('Time in Seconds')\n",
    "plt.ylabel('F0 in Hz')\n",
    "plt.savefig('/Users/noelalben/Desktop/OnsetDetection/F0.png')\n"
   ]
  },
  {
   "cell_type": "code",
   "execution_count": 79,
   "metadata": {},
   "outputs": [
    {
     "data": {
      "text/plain": [
       "2"
      ]
     },
     "execution_count": 79,
     "metadata": {},
     "output_type": "execute_result"
    }
   ],
   "source": [
    "t[1]"
   ]
  },
  {
   "cell_type": "code",
   "execution_count": null,
   "metadata": {},
   "outputs": [],
   "source": []
  }
 ],
 "metadata": {
  "kernelspec": {
   "display_name": "Python 3",
   "language": "python",
   "name": "python3"
  },
  "language_info": {
   "codemirror_mode": {
    "name": "ipython",
    "version": 3
   },
   "file_extension": ".py",
   "mimetype": "text/x-python",
   "name": "python",
   "nbconvert_exporter": "python",
   "pygments_lexer": "ipython3",
   "version": "3.9.1"
  }
 },
 "nbformat": 4,
 "nbformat_minor": 4
}
