{
 "cells": [
  {
   "cell_type": "code",
   "execution_count": 13,
   "metadata": {},
   "outputs": [],
   "source": [
    "import numpy\n",
    "from scipy import signal\n",
    "from scipy.fftpack import fft\n",
    "import matplotlib.pyplot as plt\n",
    "import os, os.path\n",
    "from scipy.io.wavfile import read as wavread\n",
    "import math\n",
    "\n"
   ]
  },
  {
   "cell_type": "code",
   "execution_count": 14,
   "metadata": {},
   "outputs": [],
   "source": [
    "def block_audio(x, blockSize, hopSize, fs):\n",
    "    # allocate memory\n",
    "    numBlocks = math.ceil(x.size / hopSize)\n",
    "    xb = np.zeros([numBlocks, blockSize])\n",
    "\n",
    "    # compute time stamps\n",
    "    t = (np.arange(0, numBlocks) * hopSize) / fs\n",
    "    x = np.concatenate((x, np.zeros(blockSize)), axis=0)\n",
    "    for n in range(0, numBlocks):\n",
    "        i_start = n * hopSize\n",
    "        i_stop = np.min([x.size - 1, i_start + blockSize - 1])\n",
    "        xb[n][np.arange(0, blockSize)] = x[np.arange(i_start, i_stop + 1)]\n",
    "    return xb, t\n",
    "\n",
    "\n",
    "def fourier(x):\n",
    "    # Get Symmetric fft\n",
    "    w = signal.windows.hann(np.size(x))\n",
    "    windowed = x * w\n",
    "    w1 = int((x.size + 1) // 2)\n",
    "    w2 = int(x.size / 2)\n",
    "    fftans = np.zeros(x.size)\n",
    "\n",
    "    # Centre to make even function\n",
    "    fftans[0:w1] = windowed[w2:]\n",
    "    fftans[w2:] = windowed[0:w1]\n",
    "    X = fft(fftans)\n",
    "    magX = abs(X[0:int(x.size // 2 + 1)])\n",
    "    return magX"
   ]
  },
  {
   "cell_type": "code",
   "execution_count": 15,
   "metadata": {},
   "outputs": [],
   "source": [
    "def extract_spectral_flux(xb):\n",
    "    magX = np.zeros((xb.shape[0], int(xb.shape[1]/2 + 1)))\n",
    "    specflux = np.zeros((xb.shape[0]))\n",
    "    magX[0] = fourier(xb[0])\n",
    "    for block in np.arange(1, xb.shape[0]):\n",
    "        magX[block] = fourier(xb[block])\n",
    "        den = magX[block].shape[0]\n",
    "        specflux[block] = np.sqrt(np.sum(np.square(magX[block] - magX[block-1])))/den\n",
    "    return specflux\n"
   ]
  },
  {
   "cell_type": "code",
   "execution_count": 19,
   "metadata": {},
   "outputs": [],
   "source": [
    "def peakPicking(onsets, windowSize = 1024, threshold = 1):\n",
    "\n",
    "    peaks = []\n",
    "    \n",
    "    peaks = peaksAboveAverage(onsets, windowSize)\n",
    "\n",
    "    # Compute a windowed (moving) average\n",
    "    #movingAverage = windowedAverage(onsets, windowSize)\n",
    "\n",
    "    #peaks = peakdet(movingAverage, 1, threshold = threshold)\n",
    "\n",
    "    #for i in range(0, len(movingAverage) - 1):\n",
    "    #    if movingAverage[i] > movingAverage[i + 1]:\n",
    "    #        peaks.append(movingAverage[i])\n",
    "    #    else:\n",
    "    #        peaks.append(0)\n",
    "    return peaks\n",
    "\n",
    "def peaksAboveAverage(data, windowSize):\n",
    "    \"\"\"\n",
    "    Find peaks by the following method:\n",
    "    - Compute the average of all the data\n",
    "    - Using a non-sliding window, find the max within each window\n",
    "    - If the windowed max is above the average, add it to peaks\n",
    "    \"\"\"\n",
    "\n",
    "    data = numpy.array(data)\n",
    "\n",
    "    peaks = []\n",
    "\n",
    "    dataAverage = numpy.average(data)\n",
    "    dataAverage = dataAverage * 1\n",
    "\n",
    "    slideAmount = int(windowSize / 2)\n",
    "\n",
    "    start = 0\n",
    "    end = windowSize\n",
    "    while start < len(data): \n",
    "        #print \"Start: \" + str(start)\n",
    "        #print \"End:   \" + str(end)\n",
    "        windowMax = data[start:end].max()  \n",
    "        windowMaxPos = data[start:end].argmax()\n",
    "\n",
    "        if windowMax > dataAverage:\n",
    "            if (start + windowMaxPos) not in peaks:\n",
    "                peaks.append(start + windowMaxPos)\n",
    "\n",
    "        start = start + slideAmount\n",
    "        end = end + slideAmount\n",
    "    \n",
    "    return peaks\n",
    "\n",
    "\n",
    "def windowedAverage(data, windowSize):\n",
    "    window = numpy.repeat(1.0, windowSize) / windowSize\n",
    "    return numpy.convolve(data, window)[windowSize - 1 : -(windowSize - 1)]\n",
    "\n",
    "def peakdet(v, delta, x = None, threshold = 1):\n",
    "    \"\"\"\n",
    "    Adapted from code at: https://gist.github.com/250860\n",
    "    Converted from MATLAB script at http://billauer.co.il/peakdet.html\n",
    "    Returns two arrays\n",
    "    function [maxtab, mintab]=peakdet(v, delta, x)\n",
    "    %PEAKDET Detect peaks in a vector\n",
    "    %        [MAXTAB, MINTAB] = PEAKDET(V, DELTA) finds the local\n",
    "    %        maxima and minima (\"peaks\") in the vector V.\n",
    "    %        MAXTAB and MINTAB consists of two columns. Column 1\n",
    "    %        contains indices in V, and column 2 the found values.\n",
    "    %      \n",
    "    %        With [MAXTAB, MINTAB] = PEAKDET(V, DELTA, X) the indices\n",
    "    %        in MAXTAB and MINTAB are replaced with the corresponding\n",
    "    %        X-values.\n",
    "    %\n",
    "    %        A point is considered a maximum peak if it has the maximal\n",
    "    %        value, and was preceded (to the left) by a value lower by\n",
    "    %        DELTA.\n",
    "    % Eli Billauer, 3.4.05 (Explicitly not copyrighted).\n",
    "    % This function is released to the public domain; Any use is allowed.\n",
    "    \"\"\"\n",
    "    maxtab = []\n",
    "    mintab = []\n",
    "       \n",
    "    if x is None:\n",
    "        x = arange(len(v))\n",
    "\n",
    "    v = asarray(v)\n",
    "\n",
    "    if len(v) != len(x):\n",
    "        sys.exit('Input vectors v and x must have same length')\n",
    "\n",
    "    if not isscalar(delta):\n",
    "        sys.exit('Input argument delta must be a scalar')\n",
    "\n",
    "    if delta <= 0:\n",
    "        sys.exit('Input argument delta must be positive')\n",
    "\n",
    "    mn, mx = Inf, -Inf\n",
    "    mnpos, mxpos = NaN, NaN\n",
    "\n",
    "    lookformax = True\n",
    "\n",
    "    for i in arange(len(v)):\n",
    "        this = v[i]\n",
    "        if this > mx:\n",
    "            mx = this\n",
    "            mxpos = x[i]\n",
    "        if this < mn:\n",
    "            mn = this\n",
    "            mnpos = x[i]\n",
    "        \n",
    "        if lookformax:\n",
    "            if this < mx - delta and this > threshold:\n",
    "                #maxtab.append((mxpos, mx))\n",
    "                maxtab.append(mxpos)\n",
    "                mn = this\n",
    "                mnpos = x[i]\n",
    "                lookformax = False\n",
    "        else:\n",
    "            if this > mn + delta:\n",
    "                #mintab.append((mnpos, mn))\n",
    "                mx = this\n",
    "                mxpos = x[i]\n",
    "                lookformax = True\n",
    "\n",
    "    #return array(maxtab), array(mintab)\n",
    "    return maxtab"
   ]
  },
  {
   "cell_type": "code",
   "execution_count": 6,
   "metadata": {},
   "outputs": [],
   "source": [
    "path = '/Users/noelalben/Downloads/Fur Elise - Beethoven (Right Hand only) | BEGINNER PIANO TUTORIAL + SHEET MUSIC by Betacustic.wav'"
   ]
  },
  {
   "cell_type": "code",
   "execution_count": 7,
   "metadata": {},
   "outputs": [],
   "source": [
    "fs, x = wavread(path)\n",
    "x = x.flatten()\n",
    "x = x/np.max(x)"
   ]
  },
  {
   "cell_type": "code",
   "execution_count": 8,
   "metadata": {},
   "outputs": [
    {
     "data": {
      "image/png": "[encoded data removed]",
      "text/plain": [
       "<Figure size 432x288 with 1 Axes>"
      ]
     },
     "metadata": {
      "needs_background": "light"
     },
     "output_type": "display_data"
    }
   ],
   "source": [
    "plt.plot(x[380000:680000])\n",
    "x = x[380000:680000]"
   ]
  },
  {
   "cell_type": "code",
   "execution_count": 9,
   "metadata": {},
   "outputs": [],
   "source": [
    "xb,t = block_audio(x,1024,256,fs)"
   ]
  },
  {
   "cell_type": "code",
   "execution_count": 10,
   "metadata": {},
   "outputs": [],
   "source": [
    "spec_flux = extract_spectral_flux(xb)"
   ]
  },
  {
   "cell_type": "code",
   "execution_count": 11,
   "metadata": {},
   "outputs": [
    {
     "data": {
      "text/plain": [
       "[<matplotlib.lines.Line2D at 0x7fe8b137b128>]"
      ]
     },
     "execution_count": 11,
     "metadata": {},
     "output_type": "execute_result"
    },
    {
     "data": {
      "image/png": "[encoded data removed]",
      "text/plain": [
       "<Figure size 432x288 with 1 Axes>"
      ]
     },
     "metadata": {
      "needs_background": "light"
     },
     "output_type": "display_data"
    }
   ],
   "source": [
    "plt.plot(spec_flux)\n"
   ]
  },
  {
   "cell_type": "code",
   "execution_count": 51,
   "metadata": {},
   "outputs": [
    {
     "data": {
      "text/plain": [
       "array([ 12288,  76032, 138496, 201984, 264448])"
      ]
     },
     "execution_count": 51,
     "metadata": {},
     "output_type": "execute_result"
    }
   ],
   "source": [
    "peaks = peakPicking(spec_flux, windowSize = 10, threshold = 1e6)\n",
    "peaks = [256 * p for p in peaks]\n",
    "from scipy.signal import find_peaks\n",
    "peaks1, _ = find_peaks(spec_flux, distance=150)\n",
    "peaks1 = peaks1*256\n",
    "peaks1"
   ]
  },
  {
   "cell_type": "code",
   "execution_count": 50,
   "metadata": {},
   "outputs": [
    {
     "data": {
      "text/plain": [
       "[<matplotlib.lines.Line2D at 0x7fe8b4a50c50>]"
      ]
     },
     "execution_count": 50,
     "metadata": {},
     "output_type": "execute_result"
    },
    {
     "data": {
      "image/png": "[encoded data removed]",
      "text/plain": [
       "<Figure size 432x288 with 1 Axes>"
      ]
     },
     "metadata": {
      "needs_background": "light"
     },
     "output_type": "display_data"
    }
   ],
   "source": [
    "plt.plot(x)\n",
    "plt.plot(peaks1,x[peaks1],'x',c='y')"
   ]
  },
  {
   "cell_type": "code",
   "execution_count": null,
   "metadata": {},
   "outputs": [],
   "source": []
  }
 ],
 "metadata": {
  "kernelspec": {
   "display_name": "Python 3",
   "language": "python",
   "name": "python3"
  },
  "language_info": {
   "codemirror_mode": {
    "name": "ipython",
    "version": 3
   },
   "file_extension": ".py",
   "mimetype": "text/x-python",
   "name": "python",
   "nbconvert_exporter": "python",
   "pygments_lexer": "ipython3",
   "version": "3.6.5"
  }
 },
 "nbformat": 4,
 "nbformat_minor": 4
}
